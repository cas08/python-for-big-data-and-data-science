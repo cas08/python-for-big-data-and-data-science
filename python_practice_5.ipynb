{
  "nbformat": 4,
  "nbformat_minor": 0,
  "metadata": {
    "colab": {
      "provenance": []
    },
    "kernelspec": {
      "name": "python3",
      "display_name": "Python 3"
    },
    "language_info": {
      "name": "python"
    }
  },
  "cells": [
    {
      "cell_type": "markdown",
      "source": [
        "# I. OOP"
      ],
      "metadata": {
        "id": "5qV_sehzFCTp"
      }
    },
    {
      "cell_type": "markdown",
      "source": [
        "1. (6б). Створіть клас Animal, додайте три атрибути, один з яких має значення за замовчуванням та два методи на свій розсуд."
      ],
      "metadata": {
        "id": "tx_U_hOALyfg"
      }
    },
    {
      "cell_type": "code",
      "source": [
        "class Animal:\n",
        "    def __init__(self, name, age, is_runing=False):\n",
        "        self.name = name\n",
        "        self.age = age\n",
        "        self.is_runing = is_runing\n",
        "\n",
        "    def print_name_and_age(self):\n",
        "      print(f\"{self.name} is {self.age}\")\n",
        "\n",
        "    def what_state(self):\n",
        "      if self.is_runing:\n",
        "        print(f\"{self.name} is running!\")\n",
        "      else:\n",
        "        print(f\"{self.name} is sitting!\")"
      ],
      "metadata": {
        "id": "-Vf895KaL88N"
      },
      "execution_count": 75,
      "outputs": []
    },
    {
      "cell_type": "markdown",
      "source": [
        "2. (2б). Створіть два обʼєкти цього класу, де один з обʼєктів створюється із дефолтним значенням атрибуту. На одному обʼєкті отримайте значення його атрибуту, а на іншому викличте один з його методів."
      ],
      "metadata": {
        "id": "X_UlOMB0L93w"
      }
    },
    {
      "cell_type": "code",
      "source": [
        "    my_dog = Animal(\"Luffy\", \"2 y.o\", True)\n",
        "    my_cat = Animal(\"Bella\", \"5 y.o\")\n",
        "\n",
        "    print(my_cat.age)\n",
        "    my_dog.what_state()"
      ],
      "metadata": {
        "id": "7gBu0ESOMCpG",
        "colab": {
          "base_uri": "https://localhost:8080/"
        },
        "outputId": "5c09dc18-6855-483f-e1ed-74e0e40d1359"
      },
      "execution_count": 79,
      "outputs": [
        {
          "output_type": "stream",
          "name": "stdout",
          "text": [
            "5 y.o\n",
            "Luffy is running!\n"
          ]
        }
      ]
    },
    {
      "cell_type": "markdown",
      "source": [
        "3. (5б). Створіть клас, де атрибути мають різні рівні доступу. Спробуйте отримати їхні значення та опишіть результати."
      ],
      "metadata": {
        "id": "HoqSCZt1MHn5"
      }
    },
    {
      "cell_type": "code",
      "source": [
        "class TestClass:\n",
        "  def __init__(self):\n",
        "    self.first_attribute = \"public\"\n",
        "    self._second_attribute = \"protected\"\n",
        "    self.__third_attribute = \"private\"\n",
        "\n",
        "  def get_third_attribute(self):\n",
        "    return self.__third_attribute\n",
        "\n",
        "my_test_class = TestClass()\n",
        "print(my_test_class.first_attribute)\n",
        "print(my_test_class._second_attribute) #Можливо отримати значення\n",
        "print(my_test_class.get_third_attribute())\n",
        "print(my_test_class.__third_attribute) #Не можливо отримати значення, але можна за допомогою доп функції"
      ],
      "metadata": {
        "id": "r9b3vJxBMSPV",
        "colab": {
          "base_uri": "https://localhost:8080/",
          "height": 228
        },
        "outputId": "d0b477b1-91f9-4673-cdc3-178db0aaf00a"
      },
      "execution_count": 81,
      "outputs": [
        {
          "output_type": "stream",
          "name": "stdout",
          "text": [
            "public\n",
            "protected\n",
            "private\n"
          ]
        },
        {
          "output_type": "error",
          "ename": "AttributeError",
          "evalue": "'TestClass' object has no attribute '__third_attribute'",
          "traceback": [
            "\u001b[0;31m---------------------------------------------------------------------------\u001b[0m",
            "\u001b[0;31mAttributeError\u001b[0m                            Traceback (most recent call last)",
            "\u001b[0;32m<ipython-input-81-1d9e62ef5e09>\u001b[0m in \u001b[0;36m<cell line: 14>\u001b[0;34m()\u001b[0m\n\u001b[1;32m     12\u001b[0m \u001b[0mprint\u001b[0m\u001b[0;34m(\u001b[0m\u001b[0mmy_test_class\u001b[0m\u001b[0;34m.\u001b[0m\u001b[0m_second_attribute\u001b[0m\u001b[0;34m)\u001b[0m \u001b[0;31m#Можливо отримати значення\u001b[0m\u001b[0;34m\u001b[0m\u001b[0;34m\u001b[0m\u001b[0m\n\u001b[1;32m     13\u001b[0m \u001b[0mprint\u001b[0m\u001b[0;34m(\u001b[0m\u001b[0mmy_test_class\u001b[0m\u001b[0;34m.\u001b[0m\u001b[0mget_third_attribute\u001b[0m\u001b[0;34m(\u001b[0m\u001b[0;34m)\u001b[0m\u001b[0;34m)\u001b[0m\u001b[0;34m\u001b[0m\u001b[0;34m\u001b[0m\u001b[0m\n\u001b[0;32m---> 14\u001b[0;31m \u001b[0mprint\u001b[0m\u001b[0;34m(\u001b[0m\u001b[0mmy_test_class\u001b[0m\u001b[0;34m.\u001b[0m\u001b[0m__third_attribute\u001b[0m\u001b[0;34m)\u001b[0m \u001b[0;31m#Не можливо отримати значення, але можна за допомогою доп функції\u001b[0m\u001b[0;34m\u001b[0m\u001b[0;34m\u001b[0m\u001b[0m\n\u001b[0m",
            "\u001b[0;31mAttributeError\u001b[0m: 'TestClass' object has no attribute '__third_attribute'"
          ]
        }
      ]
    },
    {
      "cell_type": "markdown",
      "source": [
        "4. (7б). Як ви розумієте термін self? Для чого використовується метод __init __?"
      ],
      "metadata": {
        "id": "5op2m2vgMSkZ"
      }
    },
    {
      "cell_type": "markdown",
      "source": [
        "*Цей термін використовується, щоб посилатися на поточний об'єкт класу. __init __ для того, щоб ініціалізувати якийсь об'єкт зі значеннями його атрибутів; вказати, які атрибути будуть у об'єктів класу. Також цей метод викликається під час створення об'єкту."
      ],
      "metadata": {
        "id": "DyiPqNRvMasx"
      }
    },
    {
      "cell_type": "markdown",
      "source": [
        "5. (9б). Створіть клас Фігура без атрибутів, з методом get_area для отримання площі фігури, що повертає 0 та __add __, який приймає self та other в якості аргументів, а повертає суму площин фігур self та other."
      ],
      "metadata": {
        "id": "-6X8EGfjMd2y"
      }
    },
    {
      "cell_type": "code",
      "source": [
        "class Figure:\n",
        "  def get_area(self):\n",
        "    return 0\n",
        "\n",
        "  def __add__(self, other):\n",
        "    return self.get_area() + other.get_area()"
      ],
      "metadata": {
        "id": "4rvO_wYUMaEr"
      },
      "execution_count": 15,
      "outputs": []
    },
    {
      "cell_type": "markdown",
      "source": [
        "6. (11б). Створіть 2 дочірніх класи від Фігури: Трикутник та Коло, які мають атрибути, необхідні для розрахунку площин. Визначте метод get_area в кожному з них так, щоби вони розраховували площу в залежності від формули для кожного типу фігури. Створіть обʼєкт класу Трикутник та обʼєкт класу Коло. Виконайте операцію суми за допомогою оператора + між ними."
      ],
      "metadata": {
        "id": "SFcKnnv5Mo_z"
      }
    },
    {
      "cell_type": "code",
      "source": [
        "import math\n",
        "\n",
        "class Triangle(Figure):\n",
        "  def __init__(self, a, a_h):\n",
        "    self.a = a\n",
        "    self.a_h = a_h\n",
        "\n",
        "  def get_area(self):\n",
        "    return 0.5 * self.a * self.a_h\n",
        "\n",
        "class Circle(Figure):\n",
        "  def __init__(self, radius):\n",
        "    self.radius = radius\n",
        "\n",
        "  def get_area(self):\n",
        "    return math.pi * self.radius ** 2\n",
        "\n",
        "\n",
        "my_circle = Circle(5)\n",
        "my_triangle = Triangle(10, 8)\n",
        "\n",
        "print(my_circle + my_triangle)"
      ],
      "metadata": {
        "id": "H3GVNr69Muf3",
        "colab": {
          "base_uri": "https://localhost:8080/"
        },
        "outputId": "90fc6e71-9f75-48f3-f27a-47808aaac30b"
      },
      "execution_count": 82,
      "outputs": [
        {
          "output_type": "stream",
          "name": "stdout",
          "text": [
            "118.53981633974483\n"
          ]
        }
      ]
    },
    {
      "cell_type": "markdown",
      "source": [
        "7. (3б). Продемонструйте різницю між isinstance та issubclass."
      ],
      "metadata": {
        "id": "HCvR206YMvLK"
      }
    },
    {
      "cell_type": "code",
      "source": [
        "print(isinstance(Circle, Figure)) #False\n",
        "print(issubclass(Circle, Figure)) #True\n",
        "print(issubclass(Circle, object)) #True\n",
        "\n",
        "#print(issubclass(my_circle, Figure)) #ERROR\n",
        "\n",
        "print(isinstance(my_circle, Figure)) #True\n",
        "print(isinstance(my_circle, Circle)) #True\n",
        "print(isinstance(my_circle, object)) #True\n",
        "\n",
        "#issubclass приймає клас, а не об'єкт класу, чи є клас підкласом\n",
        "#isinstance приймає об'єкт класу, перевіряє, чи об'єкт є екземпляром певного класу або його підкласу"
      ],
      "metadata": {
        "id": "L_V1bBvDM0GN",
        "colab": {
          "base_uri": "https://localhost:8080/"
        },
        "outputId": "4c6e6812-08cc-4717-b473-fb7967a9279c"
      },
      "execution_count": 83,
      "outputs": [
        {
          "output_type": "stream",
          "name": "stdout",
          "text": [
            "False\n",
            "True\n",
            "True\n",
            "True\n",
            "True\n",
            "True\n"
          ]
        }
      ]
    },
    {
      "cell_type": "markdown",
      "source": [
        "8. (13б). Створіть клас BankAccount з приватними атрибутами balance та account_number. Реалізуйте методи поповнення та зняття коштів, забезпечивши належну інкапсуляцію. Підказка: використовуйте декоратори property та setter."
      ],
      "metadata": {
        "id": "jjsaBZ-iM0Qq"
      }
    },
    {
      "cell_type": "code",
      "source": [
        "class BankAccount:\n",
        "  def __init__(self):\n",
        "    self.__balance = 0\n",
        "    self.__account_number = \"000000\"\n",
        "\n",
        "  @property\n",
        "  def balance(self):\n",
        "    return self.__balance\n",
        "\n",
        "  @property\n",
        "  def account_number(self):\n",
        "    return self.__account_number\n",
        "\n",
        "  def set_acount_number(self, account_number):\n",
        "    self.__account_number = account_number\n",
        "\n",
        "  def deposit(self, amount):\n",
        "    if amount > 0:\n",
        "        self.__balance += amount\n",
        "        print(f\"{amount} was deposited on {self.__account_number}. Current balance: {self.__balance}\")\n",
        "    else:\n",
        "        print(\"ERROR: amount <= 0.\")\n",
        "\n",
        "  def withdraw(self, amount):\n",
        "    if 0 < amount <= self.__balance:\n",
        "      self.__balance -= amount\n",
        "      print(f\"{amount} was withdrew from {self.__account_number}. Current balance: {self.__balance}\")\n",
        "    else:\n",
        "        print(\"Amount is greater than balance\")\n",
        "\n",
        "my_acc1 = BankAccount()\n",
        "my_acc1.set_acount_number(\"#123456\")\n",
        "my_acc1.deposit(555)\n",
        "my_acc1.withdraw(155)\n",
        "\n"
      ],
      "metadata": {
        "id": "xCvZ7lh8M7YA",
        "colab": {
          "base_uri": "https://localhost:8080/"
        },
        "outputId": "3ea1b08b-7eec-43b4-b181-d1c98a1b3011"
      },
      "execution_count": 84,
      "outputs": [
        {
          "output_type": "stream",
          "name": "stdout",
          "text": [
            "555 was deposited on #123456. Current balance: 555\n",
            "155 was withdrew from #123456. Current balance: 400\n"
          ]
        }
      ]
    },
    {
      "cell_type": "markdown",
      "source": [
        "9. (11б). Створіть клас Library, який містить список об'єктів типу Book. Реалізуйте методи для додавання книги, видалення книги та відображення списку книг."
      ],
      "metadata": {
        "id": "tIzL2SJTM8ft"
      }
    },
    {
      "cell_type": "code",
      "source": [
        "class Book:\n",
        "  def __init__(self, title, author):\n",
        "    self.title = title\n",
        "    self.author = author\n",
        "\n",
        "  def __str__(self):\n",
        "    return f\"Title: {self.title}; Author: {self.author}\"\n",
        "\n",
        "class Library:\n",
        "  def __init__(self):\n",
        "    self.books = []\n",
        "\n",
        "  def add_book(self, book):\n",
        "    self.books.append(book)\n",
        "    print(f\"Book with title \\\"{book.title}\\\" by {book.author} was added\")\n",
        "\n",
        "  def remove_book(self, book_to_remove):\n",
        "      for book in self.books:\n",
        "          if book_to_remove == book:\n",
        "            self.books.remove(book)\n",
        "            print(f\"Book with title \\\"{book_to_remove.title}\\\" was removed\")\n",
        "            return\n",
        "      print(f\"\\\"{book_to_remove.title}\\\" not found\")\n",
        "\n",
        "  def display_books(self):\n",
        "      if self.books:\n",
        "        print(\"Books:\")\n",
        "        for book in self.books:\n",
        "          print(book)\n",
        "      else:\n",
        "          print(\"There is no books\")\n",
        "\n",
        "my_book1 = Book(\"The Secret History\", \"Donna Tartt\")\n",
        "my_book2 = Book(\"Rave\", \"Someone\")\n",
        "my_book3 = Book(\"The Twin\", \"Natasha Preston\")\n",
        "\n",
        "my_lib = Library()\n",
        "my_lib.add_book(my_book1)\n",
        "my_lib.add_book(my_book2)\n",
        "my_lib.add_book(my_book3)\n",
        "\n",
        "my_lib.remove_book(my_book2)\n",
        "\n",
        "my_lib.display_books()"
      ],
      "metadata": {
        "id": "HWxfJKLtNAUZ",
        "colab": {
          "base_uri": "https://localhost:8080/"
        },
        "outputId": "77d26ce2-0d50-4772-ae03-49b7b9ae5af6"
      },
      "execution_count": 85,
      "outputs": [
        {
          "output_type": "stream",
          "name": "stdout",
          "text": [
            "Book with title \"The Secret History\" by Donna Tartt was added\n",
            "Book with title \"Rave\" by Someone was added\n",
            "Book with title \"The Twin\" by Natasha Preston was added\n",
            "Book with title \"Rave\" was removed\n",
            "Books:\n",
            "Title: The Secret History; Author: Donna Tartt\n",
            "Title: The Twin; Author: Natasha Preston\n"
          ]
        }
      ]
    },
    {
      "cell_type": "markdown",
      "source": [
        "10. (13б). Створіть клас Person з атрибутами name та age. Створіть ще один клас Employee з такими атрибутами, як department та salary. Створіть клас Manager, який успадковує обидва класи Person та Employee. Продемонструйте використання множинної спадковості, створивши обʼєкт класу Manager та отримавши mro для цього класу."
      ],
      "metadata": {
        "id": "lmV8pAwwNIqu"
      }
    },
    {
      "cell_type": "code",
      "source": [
        "class Person:\n",
        "  def __init__(self, name, age):\n",
        "      self.name = name\n",
        "      self.age = age\n",
        "\n",
        "class Employee:\n",
        "  def __init__(self, department, salary):\n",
        "      self.department = department\n",
        "      self.salary = salary\n",
        "\n",
        "class Manager(Person, Employee):\n",
        "  def __init__(self, name, age, department, salary):\n",
        "      Person.__init__(self, name, age)\n",
        "      Employee.__init__(self, department, salary)\n",
        "\n",
        "my_manager = Manager(\"Bohdan\", 18, \"IT\", \"1k$\")\n",
        "\n",
        "print(Manager.__mro__)"
      ],
      "metadata": {
        "id": "R49grKlWNPeN",
        "colab": {
          "base_uri": "https://localhost:8080/"
        },
        "outputId": "3684f11d-df8c-4d60-8af8-3bcf51bdc055"
      },
      "execution_count": 86,
      "outputs": [
        {
          "output_type": "stream",
          "name": "stdout",
          "text": [
            "(<class '__main__.Manager'>, <class '__main__.Person'>, <class '__main__.Employee'>, <class 'object'>)\n"
          ]
        }
      ]
    },
    {
      "cell_type": "markdown",
      "source": [
        "# II. Iterator"
      ],
      "metadata": {
        "id": "dIJyUiNBFG8G"
      }
    },
    {
      "cell_type": "markdown",
      "source": [
        "11. (4б). Визначте рядок(str) з 4ма різними за значенням символами. Створіть ітератор на основі цього рядка. Викличте 5 разів функцію next на ітераторі, 4ри перших з них огорніть у ф-цію print()."
      ],
      "metadata": {
        "id": "13vsm0NyKIzL"
      }
    },
    {
      "cell_type": "code",
      "source": [
        "my_string = \"AbCd\"\n",
        "my_str_iterator = iter(my_string)\n",
        "for _ in range(4):\n",
        "  print(next(my_str_iterator))\n",
        "\n",
        "next(my_str_iterator)"
      ],
      "metadata": {
        "id": "81ntabAkKuz-",
        "colab": {
          "base_uri": "https://localhost:8080/",
          "height": 245
        },
        "outputId": "489205dc-2613-4ac3-ba9e-70db1d73d893"
      },
      "execution_count": 53,
      "outputs": [
        {
          "output_type": "stream",
          "name": "stdout",
          "text": [
            "A\n",
            "b\n",
            "C\n",
            "d\n"
          ]
        },
        {
          "output_type": "error",
          "ename": "StopIteration",
          "evalue": "",
          "traceback": [
            "\u001b[0;31m---------------------------------------------------------------------------\u001b[0m",
            "\u001b[0;31mStopIteration\u001b[0m                             Traceback (most recent call last)",
            "\u001b[0;32m<ipython-input-53-043c2e73e0d2>\u001b[0m in \u001b[0;36m<cell line: 6>\u001b[0;34m()\u001b[0m\n\u001b[1;32m      4\u001b[0m   \u001b[0mprint\u001b[0m\u001b[0;34m(\u001b[0m\u001b[0mnext\u001b[0m\u001b[0;34m(\u001b[0m\u001b[0mmy_str_iterator\u001b[0m\u001b[0;34m)\u001b[0m\u001b[0;34m)\u001b[0m\u001b[0;34m\u001b[0m\u001b[0;34m\u001b[0m\u001b[0m\n\u001b[1;32m      5\u001b[0m \u001b[0;34m\u001b[0m\u001b[0m\n\u001b[0;32m----> 6\u001b[0;31m \u001b[0mnext\u001b[0m\u001b[0;34m(\u001b[0m\u001b[0mmy_str_iterator\u001b[0m\u001b[0;34m)\u001b[0m\u001b[0;34m\u001b[0m\u001b[0;34m\u001b[0m\u001b[0m\n\u001b[0m",
            "\u001b[0;31mStopIteration\u001b[0m: "
          ]
        }
      ]
    },
    {
      "cell_type": "markdown",
      "source": [
        "А що якщо викликати цю ж функцію на рядку?"
      ],
      "metadata": {
        "id": "aekWHGXOLRsO"
      }
    },
    {
      "cell_type": "code",
      "source": [
        "print(next(my_string))"
      ],
      "metadata": {
        "id": "mxATGsErLV1i",
        "colab": {
          "base_uri": "https://localhost:8080/",
          "height": 141
        },
        "outputId": "740208c7-768e-4629-8190-ac6b80406f96"
      },
      "execution_count": 51,
      "outputs": [
        {
          "output_type": "error",
          "ename": "TypeError",
          "evalue": "'str' object is not an iterator",
          "traceback": [
            "\u001b[0;31m---------------------------------------------------------------------------\u001b[0m",
            "\u001b[0;31mTypeError\u001b[0m                                 Traceback (most recent call last)",
            "\u001b[0;32m<ipython-input-51-ae3bf3712850>\u001b[0m in \u001b[0;36m<cell line: 1>\u001b[0;34m()\u001b[0m\n\u001b[0;32m----> 1\u001b[0;31m \u001b[0mprint\u001b[0m\u001b[0;34m(\u001b[0m\u001b[0mnext\u001b[0m\u001b[0;34m(\u001b[0m\u001b[0mmy_string\u001b[0m\u001b[0;34m)\u001b[0m\u001b[0;34m)\u001b[0m\u001b[0;34m\u001b[0m\u001b[0;34m\u001b[0m\u001b[0m\n\u001b[0m",
            "\u001b[0;31mTypeError\u001b[0m: 'str' object is not an iterator"
          ]
        }
      ]
    },
    {
      "cell_type": "markdown",
      "source": [
        " 12. (5б). Опишіть своїми словами в одному реченні, як ви розумієте різницю між ітерабельними обʼєктами та ітераторами (можна на прикладі)."
      ],
      "metadata": {
        "id": "XwtMEopwJ4pH"
      }
    },
    {
      "cell_type": "markdown",
      "source": [
        "*Ітерабельні об'єкти - це об'єкти по яким можна проходитись циклом for, ітерувати (списки, кортежі, слрвники, рядки...). А ітератор це об'єкт, який дозволяє ітеруватися, проходити по ним. Наприклад, щоб можна було проходити по об'єкту на основі власного класу, треба імплементувати реалізацію за допомогою ітераторів."
      ],
      "metadata": {
        "id": "-sHrODc3KFn8"
      }
    },
    {
      "cell_type": "markdown",
      "source": [
        "13. (11б). Створіть клас, що має визначений Iterator Protocol та при кожному виклику next повертає літери англійської абетки, поки вони не вичерпаються."
      ],
      "metadata": {
        "id": "E9qJWmNbK8Gl"
      }
    },
    {
      "cell_type": "code",
      "source": [
        "class Alphabet:\n",
        "  def __init__(self):\n",
        "    self.current_letter = ord('a')\n",
        "\n",
        "  def __iter__(self):\n",
        "    return self\n",
        "\n",
        "  def __next__(self):\n",
        "    if self.current_letter > ord('z'):\n",
        "        raise StopIteration\n",
        "    letter = chr(self.current_letter)\n",
        "    self.current_letter += 1\n",
        "    return letter\n",
        "\n",
        "my_alphabet = Alphabet()\n",
        "\n",
        "for _ in range(26):\n",
        "    print(next(my_alphabet))\n",
        "\n",
        "\"\"\"\n",
        "for letter in my_alphabet:\n",
        "    print(letter)\n",
        "\"\"\""
      ],
      "metadata": {
        "id": "cqx-g_RsLo6I",
        "colab": {
          "base_uri": "https://localhost:8080/"
        },
        "outputId": "a7fa02ed-fd3a-4701-d929-ce727582bc02"
      },
      "execution_count": 74,
      "outputs": [
        {
          "output_type": "stream",
          "name": "stdout",
          "text": [
            "a\n",
            "b\n",
            "c\n",
            "d\n",
            "e\n",
            "f\n",
            "g\n",
            "h\n",
            "i\n",
            "j\n",
            "k\n",
            "l\n",
            "m\n",
            "n\n",
            "o\n",
            "p\n",
            "q\n",
            "r\n",
            "s\n",
            "t\n",
            "u\n",
            "v\n",
            "w\n",
            "x\n",
            "y\n",
            "z\n"
          ]
        }
      ]
    },
    {
      "cell_type": "markdown",
      "source": [
        "# Вітаю! Ви велика(ий) молодець, що впоралась(вся). Похваліть себе та побалуйте чимось приємним. Я Вами пишаюся."
      ],
      "metadata": {
        "id": "Z3E3S_s1Fv7-"
      }
    }
  ]
}